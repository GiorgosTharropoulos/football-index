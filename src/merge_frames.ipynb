{
 "cells": [
  {
   "cell_type": "code",
   "execution_count": null,
   "id": "373ed0c1-4267-4d4d-ad36-feb7f95fe4a2",
   "metadata": {},
   "outputs": [],
   "source": [
    "import numpy as np\n",
    "\n",
    "from file_handler.directory import Directory\n",
    "from frame_calculations.frame_factory import FrameFactory\n",
    "\n",
    "raw_folder = '../../april_2021/APR 21/'\n",
    "final_folder = '../../april_2021/final_154/'\n",
    "raw_directory = Directory(raw_folder)\n",
    "final_directory = Directory(final_folder)"
   ]
  },
  {
   "cell_type": "code",
   "execution_count": null,
   "id": "7fdeb4f4-66c1-464f-b171-4db7237df094",
   "metadata": {},
   "outputs": [],
   "source": [
    "if raw_directory.are_files_matching(final_directory):\n",
    "        for file in raw_directory[:1]:\n",
    "            df = FrameFactory.create_frame(\n",
    "                directory=raw_directory, file=file).df\n",
    "            df.columns = [col.lower() for col in df.columns]\n",
    "            \n",
    "            df.rename(columns={'penalty conversion, %': 'penalties conversion, %'}, inplace=True)\n",
    "            df.rename(columns={'goal conversion, %': 'goals conversion, %'}, inplace=True)\n",
    "            df.rename(columns={'penalties taken': 'penalties'}, inplace=True)\n",
    "            \n",
    "            # Convert minutes played to how many 90s each player has played.\n",
    "            df['90s'] = df['minutes played'].map(lambda val: val / 90 if val else np.nan)\n",
    "            \n",
    "            # Convert absolute values columns to per 90 columns.\n",
    "#             non_per_90s_cols = ['padj sliding tackles', 'padj interceptions', 'penalties', 'clean sheets']\n",
    "#             new_per_90_cols = []\n",
    "#             for col in non_per_90s_cols:\n",
    "#                 per_90_col = col + ' per 90'\n",
    "#                 new_per_90_cols.append(per_90_col)\n",
    "#                 df[per_90_col] = df[col] / df['90s']\n",
    "                \n",
    "            # Successful percentages columns to absolute successful columns.\n",
    "#             success_keywords = ['won', 'accurate', 'successful', 'on target', 'conversion']\n",
    "#             percentage_cols = [col for col in df.columns if '%' in col]\n",
    "#             for col in percentage_cols:\n",
    "#                 for keyword in success_keywords:\n",
    "#                     if keyword in col:\n",
    "#                         col_name = col.replace(', %', '') + ' per 90'\n",
    "#                         df[col_name] = df[col.replace(keyword, '').replace(', %', '').strip() + ' per 90'] * df[col] / 100\n",
    "            \n",
    "            # Convert per 90 columns to absolute columns.\n",
    "            per_90_cols = [col for col in df.columns if '90' in col and col != '90s']\n",
    "            col_names = list(map(lambda x: x.replace(' per 90', '') + ' extrp', per_90_cols))\n",
    "            print(col_names)\n",
    "            for i, col in enumerate(per_90_cols):\n",
    "                df[col_names[i]] = df[col] * df['minutes played'] / 90\n",
    "            \n",
    "            df['minutes_per_xa'] = df['minutes played'] / df['xa']\n",
    "            df['minutes_per_assist'] = df['minutes played'] / df['assists']\n",
    "            df['minutes_per_xg'] = df['minutes played'] / df['xg']\n",
    "            df['minutes_per_goals'] = df['minutes played'] / df['goals']\n",
    "            \n",
    "            \n",
    "            \n",
    "            \n",
    "            \n"
   ]
  }
 ],
 "metadata": {
  "kernelspec": {
   "display_name": "Python 3",
   "language": "python",
   "name": "python3"
  },
  "language_info": {
   "codemirror_mode": {
    "name": "ipython",
    "version": 3
   },
   "file_extension": ".py",
   "mimetype": "text/x-python",
   "name": "python",
   "nbconvert_exporter": "python",
   "pygments_lexer": "ipython3",
   "version": "3.9.4"
  }
 },
 "nbformat": 4,
 "nbformat_minor": 5
}
