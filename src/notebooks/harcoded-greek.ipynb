{
 "metadata": {
  "language_info": {
   "codemirror_mode": {
    "name": "ipython",
    "version": 3
   },
   "file_extension": ".py",
   "mimetype": "text/x-python",
   "name": "python",
   "nbconvert_exporter": "python",
   "pygments_lexer": "ipython3",
   "version": "3.8.2"
  },
  "orig_nbformat": 2,
  "kernelspec": {
   "name": "pythonjvsc74a57bd0ff881ec3a3ccdf4b7352cdcb01e4236fc82383bbd6da15cd56e17fd10f649b6e",
   "display_name": "Python 3.8.2  ('venv': venv)"
  },
  "metadata": {
   "interpreter": {
    "hash": "ff881ec3a3ccdf4b7352cdcb01e4236fc82383bbd6da15cd56e17fd10f649b6e"
   }
  }
 },
 "nbformat": 4,
 "nbformat_minor": 2,
 "cells": [
  {
   "cell_type": "code",
   "execution_count": null,
   "metadata": {},
   "outputs": [],
   "source": [
    "import pandas as pd\n",
    "import sys\n",
    "import re\n",
    "sys.path.insert(0, \"C:\\\\Users\\\\githk\\Projects\\\\footballindex\\\\src\\\\Models\")\n",
    "sys.path.insert(0, \"C:\\\\Users\\\\githk\\Projects\\\\footballindex\\\\src\\\\Utils\")\n",
    "from column import Column, DataTypes\n",
    "from column_renaming import ColumnName\n"
   ]
  },
  {
   "cell_type": "code",
   "execution_count": null,
   "metadata": {},
   "outputs": [],
   "source": [
    "file_path = 'C:/Users/githk/Projects/footballindex/Sample Data/raw stats/GRE1.xlsx'\n",
    "\n",
    "original_df = pd.read_excel(file_path)"
   ]
  },
  {
   "cell_type": "code",
   "execution_count": null,
   "metadata": {},
   "outputs": [],
   "source": [
    "[ColumnName(col).convert() for col in original_df.columns]\n"
   ]
  },
  {
   "cell_type": "code",
   "execution_count": null,
   "metadata": {},
   "outputs": [],
   "source": [
    "player = Column(original_name='Player', target_name='player',\n",
    "                data_type=DataTypes.STRING, is_per90=False)\n",
    "team = Column(original_name='Team', target_name=\n",
    "              DataTypes=DataTypes.STRING, is_per90=False, should_convert=False)\n",
    "team_within_selected_timeframe = Column(original_name='Team within selected timeframe',\n",
    "              DataTypes=DataTypes.STRING, is_per90=False, should_convert=False)\n",
    "position = Column(original_name='Position', target_name='position')\n",
    "\n",
    "\n",
    "\n"
   ]
  }
 ]
}