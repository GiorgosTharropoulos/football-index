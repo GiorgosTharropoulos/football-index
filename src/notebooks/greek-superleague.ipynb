{
 "metadata": {
  "language_info": {
   "codemirror_mode": {
    "name": "ipython",
    "version": 3
   },
   "file_extension": ".py",
   "mimetype": "text/x-python",
   "name": "python",
   "nbconvert_exporter": "python",
   "pygments_lexer": "ipython3",
   "version": "3.8.2"
  },
  "orig_nbformat": 2,
  "kernelspec": {
   "name": "pythonjvsc74a57bd0ff881ec3a3ccdf4b7352cdcb01e4236fc82383bbd6da15cd56e17fd10f649b6e",
   "display_name": "Python 3.8.2  ('venv': venv)"
  },
  "metadata": {
   "interpreter": {
    "hash": "ff881ec3a3ccdf4b7352cdcb01e4236fc82383bbd6da15cd56e17fd10f649b6e"
   }
  }
 },
 "nbformat": 4,
 "nbformat_minor": 2,
 "cells": [
  {
   "cell_type": "code",
   "execution_count": 43,
   "metadata": {},
   "outputs": [],
   "source": [
    "import pandas as pd\n",
    "import numpy as np\n",
    "from unidecode import unidecode\n",
    "\n",
    "POS_DICT = {\n",
    "    'Goalkeeper': ['GK'],\n",
    "    'Full Back': ['LB', 'LB5', 'RB', 'RB5'],\n",
    "    'Wing Back': ['LWB', 'RWB'],\n",
    "    'Center Back': ['CB', 'CB3', 'RCB', 'LCB', 'RCB3', 'LCB3'],\n",
    "    'Defensive Midfielder': ['DMF', 'RDMF', 'LDMF'],\n",
    "    'Central Midfielder': ['LCMF', 'LCMF3', 'RCMF', 'RCMF3'],\n",
    "    'Attacking Midfielder': ['AMF', 'LAMF', 'RAMF'],\n",
    "    'Winger': ['LW', 'RW'],\n",
    "    'Wing Forward': ['LWF', 'RWF'],\n",
    "    'Striker': ['CF']\n",
    "}\n",
    "\n"
   ]
  },
  {
   "cell_type": "code",
   "execution_count": 44,
   "metadata": {},
   "outputs": [],
   "source": [
    "file_path = 'C:/Users/githk/Projects/footballindex/Sample Data/raw stats/GRE1.xlsx'\n",
    "\n",
    "df = pd.read_excel(file_path)"
   ]
  },
  {
   "cell_type": "code",
   "execution_count": 45,
   "metadata": {},
   "outputs": [],
   "source": [
    "df.columns = [col.lower() for col in df.columns]"
   ]
  },
  {
   "cell_type": "code",
   "execution_count": 46,
   "metadata": {},
   "outputs": [],
   "source": [
    "df.rename(columns={'penalty conversion, %': 'penalties conversion, %'}, inplace=True)\n",
    "df.rename(columns={'goal conversion, %': 'goals conversion, %'}, inplace=True)\n",
    "df.rename(columns={'penalties taken': 'penalties'}, inplace=True)"
   ]
  },
  {
   "cell_type": "code",
   "execution_count": 47,
   "metadata": {},
   "outputs": [],
   "source": [
    "# Conver minutes played to how many 90s each player has played.\n",
    "\n",
    "df['90s'] = df['minutes played'].map(lambda val: val / 90 if val else -1)"
   ]
  },
  {
   "cell_type": "code",
   "execution_count": 48,
   "metadata": {},
   "outputs": [],
   "source": [
    "# Convert absolute values columns to per 90 columns.\n",
    "\n",
    "non_per_90s_cols = ['padj sliding tackles', 'padj interceptions', 'penalties', 'clean sheets']\n",
    "new_per_90_cols = []\n",
    "for col in non_per_90s_cols:\n",
    "    per_90_col = col + ' per 90'\n",
    "    new_per_90_cols.append(per_90_col)\n",
    "    df[per_90_col] = df[col] / df['90s']"
   ]
  },
  {
   "cell_type": "code",
   "execution_count": 49,
   "metadata": {},
   "outputs": [],
   "source": [
    "# Successful percentages columns to absolute successful columns.\n",
    "\n",
    "success_keywords = ['won', 'accurate', 'successful', 'on target', 'conversion']\n",
    "percentage_cols = [col for col in df.columns if '%' in col]\n",
    "for col in percentage_cols:\n",
    "    for keyword in success_keywords:\n",
    "        if keyword in col:\n",
    "            col_name = col.replace(', %', '') + ' per 90'\n",
    "            df[col_name] = df[col.replace(keyword, '').replace(', %', '').strip() + ' per 90'] * df[col] / 100\n"
   ]
  },
  {
   "cell_type": "code",
   "execution_count": 50,
   "metadata": {},
   "outputs": [],
   "source": [
    "# Convert per 90 columns to absolute columns.\n",
    "\n",
    "per_90_cols = [col for col in df.columns if '90' in col]\n",
    "col_names = list(map(lambda x: x.replace(' per 90', '') + ' extrp', per_90_cols))\n",
    "for i, col in enumerate(per_90_cols):\n",
    "    df[col_names[i]] = df[col] * df['minutes played'] / 90"
   ]
  },
  {
   "cell_type": "code",
   "execution_count": 51,
   "metadata": {},
   "outputs": [],
   "source": [
    "def element_wise_mapping(position):\n",
    "    '''\n",
    "    Element wise mapping.\n",
    "    position [str]: The abbreviated position.\n",
    "\n",
    "    returns [str, int]: The full description of the position or -1 if the position is not included in the dictionary's values.\n",
    "    '''\n",
    "    for key in POS_DICT:\n",
    "        for values in POS_DICT[key]:\n",
    "            if position in values:\n",
    "                return key\n",
    "    return -1"
   ]
  },
  {
   "cell_type": "code",
   "execution_count": 52,
   "metadata": {},
   "outputs": [],
   "source": [
    "# Maps the abbreviation of the positions to the complete description.abs\n",
    "positions_df = df['position'].str.split(', ', expand=True)\n",
    "mapped_positions_df = positions_df.applymap(element_wise_mapping, na_action='ignore')\n",
    "unique_pos_list_df = mapped_positions_df.stack().groupby(level=0).apply(lambda x: x.unique()).rename('position').to_frame()\n",
    "descriptive_positions = pd.DataFrame(unique_pos_list_df['position'].tolist(), index=unique_pos_list_df.index).add_prefix('position')"
   ]
  },
  {
   "cell_type": "code",
   "execution_count": 53,
   "metadata": {},
   "outputs": [],
   "source": [
    "df = pd.concat([df, descriptive_positions], axis=1)"
   ]
  },
  {
   "cell_type": "code",
   "execution_count": 54,
   "metadata": {},
   "outputs": [],
   "source": [
    "# Create the ratio of assist to xA per 90 mins.\n",
    "\n",
    "df['assists to xa per 90'] = df['assists per 90'] / df['xa per 90']"
   ]
  },
  {
   "cell_type": "code",
   "execution_count": 55,
   "metadata": {},
   "outputs": [],
   "source": [
    "# Create the ratio of assist to xA.\n",
    "\n",
    "df['assists to xa'] = df['assists'] / df['xa']"
   ]
  },
  {
   "cell_type": "code",
   "execution_count": 56,
   "metadata": {},
   "outputs": [],
   "source": [
    "df['minutes per xa'] = df.apply(lambda row: row['minutes played'] / row['xa'] if row['xa'] else -1, axis=1)"
   ]
  },
  {
   "cell_type": "code",
   "execution_count": 57,
   "metadata": {},
   "outputs": [],
   "source": [
    "df['minutes per assist'] = df.apply(lambda row: row['minutes played'] / row['assists'] if row['assists'] else -1, axis=1)"
   ]
  },
  {
   "cell_type": "code",
   "execution_count": 58,
   "metadata": {},
   "outputs": [],
   "source": [
    "# Get goals to xG per 90 mins, if this ratio is greater than one it means that the player is a clinical finsiher.\n",
    "df['goals to xg per 90'] = df.apply(lambda row: row['goals per 90'] / row['xg per 90'] if row['xg per 90'] > 0 else -1, axis=1)"
   ]
  },
  {
   "cell_type": "code",
   "execution_count": 59,
   "metadata": {},
   "outputs": [],
   "source": [
    "df['goals to xg'] = df.apply(lambda row: row['goals'] / row['xg'] if row['xg'] else -1, axis=1)"
   ]
  },
  {
   "cell_type": "code",
   "execution_count": 60,
   "metadata": {},
   "outputs": [],
   "source": [
    "df['searchable_player_name'] = df.player.apply(lambda x: unidecode(x))"
   ]
  },
  {
   "cell_type": "code",
   "execution_count": 61,
   "metadata": {},
   "outputs": [],
   "source": [
    "df.to_csv('./greek-superleague-groups.csv')"
   ]
  }
 ]
}