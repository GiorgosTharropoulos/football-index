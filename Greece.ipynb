{
 "cells": [
  {
   "cell_type": "code",
   "execution_count": null,
   "id": "appreciated-quantum",
   "metadata": {},
   "outputs": [],
   "source": [
    "import pandas as pd\n",
    "import numpy as np\n",
    "POS_DICT = {\n",
    "    'Goalkeeper': ['GK'],\n",
    "    'Full Back': ['LB', 'LB5', 'RB', 'RB5'],\n",
    "    'Wing Back': ['LWB', 'RWB'],\n",
    "    'Center Back': ['CB', 'CB3', 'RCB', 'LCB', 'RCB3', 'LCB3'],\n",
    "    'Defensive Midfielder': ['DMF', 'RDMF', 'LDMF'],\n",
    "    'Central Midfielder': ['LCMF', 'LCMF3', 'RCMF', 'RCMF3'],\n",
    "    'Attacking Midfielder': ['AMF', 'LAMF', 'RAMF'],\n",
    "    'Winger': ['LW', 'RW'],\n",
    "    'Wing Forward': ['LWF', 'RWF'],\n",
    "    'Striker': ['CF']\n",
    "}\n"
   ]
  },
  {
   "cell_type": "code",
   "execution_count": null,
   "id": "individual-japanese",
   "metadata": {},
   "outputs": [],
   "source": [
    "file_path = 'C:/Users/githk/Projects/footballindex/Sample Data/raw stats/GRE1.xlsx'\n",
    "\n",
    "gr_df = pd.read_excel(file_path)"
   ]
  },
  {
   "cell_type": "code",
   "execution_count": null,
   "id": "requested-somerset",
   "metadata": {},
   "outputs": [],
   "source": [
    "def column_names_to_lower(df):\n",
    "    df.columns = [col.lower() for col in gr_df.columns]\n",
    "    return df"
   ]
  },
  {
   "cell_type": "code",
   "execution_count": null,
   "id": "greek-provider",
   "metadata": {},
   "outputs": [],
   "source": [
    "gr_df['90s'] = gr_df['minutes played'].map(lambda val: val / 90)\n",
    "gr_df[['90s', 'minutes played']].head()"
   ]
  },
  {
   "cell_type": "code",
   "execution_count": null,
   "id": "adequate-receiver",
   "metadata": {},
   "outputs": [],
   "source": [
    "def per_90_to_absolute(df, min_cols='minutes played'):\n",
    "    per_90_cols = [col for col in df.columns if '90' in col]\n",
    "    col_names = list(map(lambda x: x.replace(' per 90', '') + ' extrp', per_90_cols))\n",
    "    for i, col in enumerate(per_90_cols):\n",
    "        df[col_names[i]] = df[col] * df[min_cols] / 90\n",
    "    return df"
   ]
  },
  {
   "cell_type": "code",
   "execution_count": null,
   "id": "different-reservoir",
   "metadata": {},
   "outputs": [],
   "source": [
    "def successful_percentage_to_absolute(df, success_cols=['won', 'accurate', 'successful']):\n",
    "    percentage_cols = [col for col in df.columns if '%' in col]\n",
    "    for col in percentage_cols:\n",
    "        for keyword in success_cols:\n",
    "            if keyword in col:\n",
    "                col_name = col.replace(', %', '') + ' per 90'\n",
    "                df[col_name] = gr_df[col.replace(keyword, '').replace(', %', '').strip() + ' per 90'] * df[col] / 100\n",
    "    return df"
   ]
  },
  {
   "cell_type": "code",
   "execution_count": null,
   "id": "sapphire-arkansas",
   "metadata": {},
   "outputs": [],
   "source": [
    "def map_positions(df):\n",
    "    '''\n",
    "    Maps the abbreviation of the postion.\n",
    "    '''\n",
    "    \n",
    "    def element_wise_mapping(position):\n",
    "        '''\n",
    "        Element wise mapping.\n",
    "        position [str]: The abbreviated position.\n",
    "\n",
    "        returns [str, int]: The full description of the position or -1 if the position is not included in the dictionary's values.\n",
    "        '''\n",
    "        for key in POS_DICT:\n",
    "            for values in POS_DICT[key]:\n",
    "                if position in values:\n",
    "                    return key\n",
    "        return -1\n",
    "\n",
    "    # Expands the single position column to as many columns are unique positions separated by commas.\n",
    "    positions_df = df['position'].str.split(', ', expand=True)\n",
    "    mapped_positions_df = positions_df.applymap(element_wise_mapping, na_action='ignore')\n",
    "    # Creates a Dataframe with a single column, named position. Containing only unique mapped positions.\n",
    "    unique_pos_list_df = mapped_positions_df.stack().groupby(level=0).apply(lambda x: x.unique()).rename('position').to_frame()\n",
    "    \n",
    "    df1 = pd.DataFrame(unique_pos_list_df['position'].tolist(), index=unique_pos_list_df.index).add_prefix('position')\n",
    "    return df1"
   ]
  },
  {
   "cell_type": "code",
   "execution_count": null,
   "id": "acting-heater",
   "metadata": {},
   "outputs": [],
   "source": [
    "gr_df = column_names_to_lower(gr_df)\n",
    "gr_df = successful_percentage_to_absolute(gr_df)\n",
    "gr_df = per_90_to_absolute(gr_df)\n",
    "pd.concat([gr_df, map_positions(gr_df)], axis=1)"
   ]
  },
  {
   "cell_type": "code",
   "execution_count": null,
   "id": "saved-cooperative",
   "metadata": {},
   "outputs": [],
   "source": [
    "gr_df['assists to xa per 90'] = gr_df['assists per 90'] / gr_df['xa per 90']\n"
   ]
  },
  {
   "cell_type": "code",
   "execution_count": null,
   "id": "cheap-marble",
   "metadata": {},
   "outputs": [],
   "source": [
    "gr_df['assists to xa'] = gr_df['assists per 90'] / gr_df['xa']\n"
   ]
  },
  {
   "cell_type": "code",
   "execution_count": null,
   "id": "heavy-apparatus",
   "metadata": {},
   "outputs": [],
   "source": [
    "[col for col in gr_df.columns if 'xa' in col]"
   ]
  },
  {
   "cell_type": "code",
   "execution_count": null,
   "id": "developmental-allocation",
   "metadata": {},
   "outputs": [],
   "source": [
    "gr_df['minutes per xa'] = gr_df.apply(lambda row: row['minutes played'] / row['xa'] if row['xa'] else -1, axis=1)\n",
    "gr_df['minutes per xa']"
   ]
  },
  {
   "cell_type": "code",
   "execution_count": null,
   "id": "numerical-fever",
   "metadata": {},
   "outputs": [],
   "source": [
    "gr_df['minutes per assist'] = gr_df.apply(lambda row: row['minutes played'] / row['assists'] if row['assists'] else -1, axis=1)\n",
    "gr_df['minutes per assist']"
   ]
  }
 ],
 "metadata": {
  "kernelspec": {
   "display_name": "Python 3",
   "language": "python",
   "name": "python3"
  },
  "language_info": {
   "codemirror_mode": {
    "name": "ipython",
    "version": 3
   },
   "file_extension": ".py",
   "mimetype": "text/x-python",
   "name": "python",
   "nbconvert_exporter": "python",
   "pygments_lexer": "ipython3",
   "version": "3.8.2"
  }
 },
 "nbformat": 4,
 "nbformat_minor": 5
}
